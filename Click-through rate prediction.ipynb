{
 "cells": [
  {
   "cell_type": "markdown",
   "metadata": {},
   "source": [
    "# COMP0124: Multi-Agent Artificial Intelligence"
   ]
  },
  {
   "cell_type": "markdown",
   "metadata": {},
   "source": [
    "# Group project: Real-time bidding auctions"
   ]
  },
  {
   "cell_type": "markdown",
   "metadata": {},
   "source": [
    "**Group #7: Oliviero Balbinetti, Mauricio Caballero, Paul Melkert**"
   ]
  },
  {
   "cell_type": "markdown",
   "metadata": {
    "ExecuteTime": {
     "end_time": "2019-02-20T08:49:21.393034Z",
     "start_time": "2019-02-20T08:49:21.389288Z"
    }
   },
   "source": [
    "Importing libraries."
   ]
  },
  {
   "cell_type": "code",
   "execution_count": 1,
   "metadata": {
    "ExecuteTime": {
     "end_time": "2019-03-01T21:31:46.255455Z",
     "start_time": "2019-03-01T21:31:43.935062Z"
    }
   },
   "outputs": [],
   "source": [
    "import os\n",
    "import sys\n",
    "import math\n",
    "import random\n",
    "import operator\n",
    "import numpy as np\n",
    "import pandas as pd\n",
    "import matplotlib.pyplot as plt\n",
    "\n",
    "from glob import glob\n",
    "from sklearn.metrics import roc_auc_score\n",
    "from sklearn.metrics import mean_squared_error"
   ]
  },
  {
   "cell_type": "markdown",
   "metadata": {},
   "source": [
    "Defining functions."
   ]
  },
  {
   "cell_type": "code",
   "execution_count": 2,
   "metadata": {
    "ExecuteTime": {
     "end_time": "2019-03-01T21:31:46.261001Z",
     "start_time": "2019-03-01T21:31:46.257902Z"
    }
   },
   "outputs": [],
   "source": [
    "#Inizialising weight.\n",
    "def Initialize_weight(Initial_weight):\n",
    "    return (random.random() - 0.5)*Initial_weight\n",
    "\n",
    "#Sigmoid function.\n",
    "def sigmoid_function(value):\n",
    "    return 1.0/(1.0 + math.exp(-value))"
   ]
  },
  {
   "cell_type": "markdown",
   "metadata": {},
   "source": [
    "Importing data in pandas DataFrames."
   ]
  },
  {
   "cell_type": "code",
   "execution_count": 3,
   "metadata": {
    "ExecuteTime": {
     "end_time": "2019-03-01T21:31:52.789863Z",
     "start_time": "2019-03-01T21:31:46.262478Z"
    }
   },
   "outputs": [],
   "source": [
    "#Defining directory.\n",
    "Path = '/Users/olivierobalbinetti/Desktop/University College London/Term 2/'\\\n",
    "       'Multi Agents Artificial Intelligence/Courseworks/Group coursework/'\\\n",
    "       'Data/Feature engineering'\n",
    "\n",
    "#Importing data.\n",
    "Datasets = {}\n",
    "os.chdir(Path)\n",
    "for Filename in glob('*.csv'):\n",
    "    Datasets[Filename[:-4].title()] = pd.read_csv(Filename, sep = ',')\n",
    "    \n",
    "#Defining variables.\n",
    "Train = Datasets['Train']\n",
    "Validation = Datasets['Validation']"
   ]
  },
  {
   "cell_type": "markdown",
   "metadata": {},
   "source": [
    "Click-throught rate estimation."
   ]
  },
  {
   "cell_type": "code",
   "execution_count": null,
   "metadata": {
    "ExecuteTime": {
     "start_time": "2019-03-01T21:36:59.774Z"
    }
   },
   "outputs": [
    {
     "name": "stdout",
     "output_type": "stream",
     "text": [
      "Click-throught rate estimation: logistic regression model.\n",
      "\n"
     ]
    }
   ],
   "source": [
    "#Logistic regression model.\n",
    "random.seed(10)\n",
    "print('Click-throught rate estimation: logistic regression model.\\n')\n",
    "\n",
    "#Defining directory.\n",
    "Path = '/Users/olivierobalbinetti/Desktop/University College London/Term 2/'\\\n",
    "       'Multi Agents Artificial Intelligence/Courseworks/Group coursework/'\\\n",
    "       'Data/Predicted CTR'\n",
    "\n",
    "#Defining general variables.\n",
    "Eta = 0.01\n",
    "Epoch = 10\n",
    "Lambda = 1*10**(-6)\n",
    "Batch_size = 1000000\n",
    "\n",
    "Feature_weights = {}\n",
    "Initial_weight = 0.05\n",
    "\n",
    "#Looping on epoch.\n",
    "for epoch in range(0, Epoch):\n",
    "    Flag = 0\n",
    "    \n",
    "    Click = Train['click'].values\n",
    "    Payprice = Train['payprice'].values\n",
    "    Feature = Train['feature'].str.split(' ').values\n",
    "    \n",
    "    #Looping for training.\n",
    "    while (Flag*Batch_size < len(Train)):\n",
    "        Train_click = Click[Flag*Batch_size:(Flag+1)*Batch_size]\n",
    "        Train_feature = Feature[Flag*Batch_size:(Flag+1)*Batch_size]\n",
    "        Train_payprice = Payprice[Flag*Batch_size:(Flag+1)*Batch_size]\n",
    "        \n",
    "        #Looping on batches.\n",
    "        for request in range(0, len(Train_feature)):\n",
    "            prediction = 0.\n",
    "            \n",
    "            clk = Train_click[request]\n",
    "            price = Train_payprice[request]\n",
    "            feature = [int(x) for x in Train_feature[request]]\n",
    "            \n",
    "            for feat in feature:\n",
    "                if feat not in Feature_weights:\n",
    "                    Feature_weights[feat] = Initialize_weight(Initial_weight)\n",
    "                    \n",
    "                prediction += Feature_weights[feat]\n",
    "            prediction = sigmoid_function(prediction)\n",
    "            \n",
    "            for feat in feature:\n",
    "                Feature_weights[feat] = Feature_weights[feat]*(1-Lambda)\\\n",
    "                                        + Eta*(clk-prediction)\n",
    "        Flag += 1\n",
    "    \n",
    "    #Looping for testing.\n",
    "    True_values = []\n",
    "    Predicted_values = []\n",
    "    \n",
    "    Click = Validation['click'].values\n",
    "    Payprice = Validation['payprice'].values\n",
    "    Feature = Validation['feature'].str.split(' ')\n",
    "    \n",
    "    for request in range(0, len(Feature)):\n",
    "        prediction = 0.\n",
    "        \n",
    "        clk = Click[request]\n",
    "        price = Payprice[request]\n",
    "        feature = [int(x) for x in Feature[request]]\n",
    "        \n",
    "        for feat in feature:\n",
    "            if feat in Feature_weights:\n",
    "                prediction += Feature_weights[feat]\n",
    "        prediction = sigmoid_function(prediction)\n",
    "        \n",
    "        True_values.append(clk)\n",
    "        Predicted_values.append(prediction)\n",
    "        \n",
    "    #Estimating preformance.\n",
    "    auc = roc_auc_score(True_values, Predicted_values)\n",
    "    rmse = math.sqrt(mean_squared_error(True_values, Predicted_values))\n",
    "    print('[Epoch: %d]: auc = %.4f, rmse = %.4f' %(epoch, auc, rmse))\n",
    "    \n",
    "#Saving weights.\n",
    "Filename = 'Logistic regression weights' + '.csv'\n",
    "Header('feature code,weight')\n",
    "\n",
    "with open(Filename, 'w') as file:\n",
    "    file.write(Header + '\\n')\n",
    "    Feature_values = sorted(Feature_weights.items(), key=operator.itemgetter(0))\n",
    "    \n",
    "    for item in Feature_values:\n",
    "        file.write(str(item[0]) + ',' + str(item[1]) + '\\n')\n",
    "        \n",
    "    print('• [File %s]: Process completed!' %Filename)\n",
    "        \n",
    "#Saving predictions.\n",
    "Filename = 'CTR estimation (Validation)' + '.csv'\n",
    "Header('bidid,pCTR')\n",
    "\n",
    "with open(Filename, 'w') as file:\n",
    "    file.write(Header + '\\n')\n",
    "    \n",
    "    for request in range(0, len(Validation)):\n",
    "        prediction = 0.\n",
    "        feature = [int(x) for x in Feature[request]]\n",
    "        \n",
    "        for feat in feature:\n",
    "            if feat in Feature_weights:\n",
    "                prediction += Feature_weights[feat]\n",
    "        prediction = sigmoid_function(prediction)\n",
    "        \n",
    "        file.write(Validation['bidid'].iloc[request] + ',' + \n",
    "                   str(prediction) + '\\n')\n",
    "          \n",
    "    print('• [File %s]: Process completed!' %Filename)"
   ]
  }
 ],
 "metadata": {
  "kernelspec": {
   "display_name": "Python 3",
   "language": "python",
   "name": "python3"
  },
  "language_info": {
   "codemirror_mode": {
    "name": "ipython",
    "version": 3
   },
   "file_extension": ".py",
   "mimetype": "text/x-python",
   "name": "python",
   "nbconvert_exporter": "python",
   "pygments_lexer": "ipython3",
   "version": "3.6.8"
  }
 },
 "nbformat": 4,
 "nbformat_minor": 2
}
