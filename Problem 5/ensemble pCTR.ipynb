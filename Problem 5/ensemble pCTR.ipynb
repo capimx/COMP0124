{
 "cells": [
  {
   "cell_type": "markdown",
   "metadata": {},
   "source": [
    "# Ensemble CTR Prediction\n",
    "\n",
    "AUC-val scores:\n",
    "GBM = 0.885\n",
    "LR = 0.82\n",
    "NN 0.845"
   ]
  },
  {
   "cell_type": "code",
   "execution_count": 1,
   "metadata": {},
   "outputs": [],
   "source": [
    "import os\n",
    "import numpy as np\n",
    "import pandas as pd"
   ]
  },
  {
   "cell_type": "code",
   "execution_count": 102,
   "metadata": {},
   "outputs": [
    {
     "name": "stdout",
     "output_type": "stream",
     "text": [
      "/Users/pmelkert/Documents/Academics/UCL/Term_2/COMP0124-MAS/Group_project/github/COMP0124/Files\n"
     ]
    }
   ],
   "source": [
    "print(os.getcwd())"
   ]
  },
  {
   "cell_type": "code",
   "execution_count": 103,
   "metadata": {},
   "outputs": [
    {
     "name": "stdout",
     "output_type": "stream",
     "text": [
      "/Users/pmelkert/Documents/Academics/UCL/Term_2/COMP0124-MAS/Group_project/github/COMP0124/Files\n"
     ]
    }
   ],
   "source": [
    "dir = os.getcwd() \n",
    "print(dir)"
   ]
  },
  {
   "cell_type": "code",
   "execution_count": 2,
   "metadata": {},
   "outputs": [
    {
     "name": "stdout",
     "output_type": "stream",
     "text": [
      "0.3215686274509804 0.3470588235294118 0.33137254901960783\n"
     ]
    }
   ],
   "source": [
    "auc_lr = 0.82\n",
    "auc_gbm = 0.885\n",
    "auc_nn = 0.845\n",
    "auc_total = sum([auc_lr, auc_gbm, auc_nn])\n",
    "w_lr = auc_lr / auc_total\n",
    "w_gbm = auc_gbm / auc_total\n",
    "w_nn = auc_nn / auc_total\n",
    "\n",
    "print(w_lr, w_gbm, w_nn)"
   ]
  },
  {
   "cell_type": "code",
   "execution_count": 4,
   "metadata": {},
   "outputs": [
    {
     "name": "stdout",
     "output_type": "stream",
     "text": [
      "                                      bidid      pCTR\n",
      "0  366c563de7d90feb9d4dab53e795a93fb3157387  0.000050\n",
      "1  29167d4caa719788b5a342dbaa25151d53121f80  0.020316\n",
      "2  ff8bc3f4d44a3ea60c5f3a3a8fbe7cd98fb2966e  0.000034\n",
      "3  844c2da00d45315f20b748ec131c26ee99a7cbc7  0.000487\n",
      "4  c6017f0ad0c44d7d0c9b62583ea863f28941c0ca  0.001187\n",
      "                                      bidid      pCTR\n",
      "0  366c563de7d90feb9d4dab53e795a93fb3157387  0.001023\n",
      "1  29167d4caa719788b5a342dbaa25151d53121f80  0.002803\n",
      "2  ff8bc3f4d44a3ea60c5f3a3a8fbe7cd98fb2966e  0.000205\n",
      "3  844c2da00d45315f20b748ec131c26ee99a7cbc7  0.000679\n",
      "4  c6017f0ad0c44d7d0c9b62583ea863f28941c0ca  0.000571\n",
      "                                      bidid      pCTR\n",
      "0  366c563de7d90feb9d4dab53e795a93fb3157387  0.001027\n",
      "1  29167d4caa719788b5a342dbaa25151d53121f80  0.001664\n",
      "2  ff8bc3f4d44a3ea60c5f3a3a8fbe7cd98fb2966e  0.000052\n",
      "3  844c2da00d45315f20b748ec131c26ee99a7cbc7  0.000291\n",
      "4  c6017f0ad0c44d7d0c9b62583ea863f28941c0ca  0.000152\n"
     ]
    }
   ],
   "source": [
    "# Validation set\n",
    "dir='C://Users//mau_c//OneDrive//Documentos//UCL//MultiAgent//Untitled Folder//Git//COMP0124//Files'\n",
    "ctr_lr_val = pd.read_csv(dir + '/pCTR_LR_validation.csv')\n",
    "ctr_gbm_val = pd.read_csv(dir + '/LGBM_validation_pCTR.csv')\n",
    "ctr_nn_val = pd.read_csv(dir + '/pCTR_nn_keras_validation.csv')\n",
    "# Test set\n",
    "ctr_lr_test = pd.read_csv(dir + '/pCTR_LR_test.csv')\n",
    "ctr_gbm_test = pd.read_csv(dir + '/LGBM_test_pCTR.csv')\n",
    "ctr_nn_test = pd.read_csv(dir + '/pCTR_nn_keras_test.csv')\n",
    "\n",
    "print(ctr_lr_test.head())\n",
    "print(ctr_gbm_test.head())\n",
    "print(ctr_nn_test.head())\n"
   ]
  },
  {
   "cell_type": "code",
   "execution_count": 5,
   "metadata": {},
   "outputs": [],
   "source": [
    "ctr_ensemble_avg_val = pd.DataFrame(data={'bidid': ctr_lr_val.bidid, 'pCTR':pd.concat([ctr_lr_val.pCTR, ctr_gbm_val.pCTR, ctr_nn_val.pCTR], axis=1).mean(axis=1)})  \n",
    "ctr_ensemble_avg_test = pd.DataFrame(data={'bidid': ctr_lr_test.bidid, 'pCTR':pd.concat([ctr_lr_test.pCTR, ctr_gbm_test.pCTR, ctr_nn_test.pCTR], axis=1).mean(axis=1)})  "
   ]
  },
  {
   "cell_type": "code",
   "execution_count": 7,
   "metadata": {},
   "outputs": [
    {
     "name": "stdout",
     "output_type": "stream",
     "text": [
      "                                      bidid      pCTR\n",
      "0  366c563de7d90feb9d4dab53e795a93fb3157387  0.000700\n",
      "1  29167d4caa719788b5a342dbaa25151d53121f80  0.008261\n",
      "2  ff8bc3f4d44a3ea60c5f3a3a8fbe7cd98fb2966e  0.000097\n",
      "3  844c2da00d45315f20b748ec131c26ee99a7cbc7  0.000486\n",
      "4  c6017f0ad0c44d7d0c9b62583ea863f28941c0ca  0.000637\n"
     ]
    }
   ],
   "source": [
    "print(ctr_ensemble_avg_test.head())"
   ]
  },
  {
   "cell_type": "code",
   "execution_count": 8,
   "metadata": {},
   "outputs": [],
   "source": [
    "# Validation set\n",
    "ctr_lr_val.pCTR = ctr_lr_val.pCTR.apply(lambda x: x*w_lr)\n",
    "ctr_gbm_val.pCTR = ctr_gbm_val.pCTR.apply(lambda x: x*w_gbm)\n",
    "ctr_nn_val.pCTR = ctr_nn_val.pCTR.apply(lambda x: x*w_nn)\n",
    "ctr_ensemble_wavg_val = pd.DataFrame(data={'bidid': ctr_lr_val.bidid, 'pCTR':pd.concat([ctr_lr_val.pCTR, ctr_gbm_val.pCTR, ctr_nn_val.pCTR], axis=1).sum(axis=1)})  \n",
    "\n",
    "\n",
    "# Test set\n",
    "ctr_lr_test.pCTR = ctr_lr_test.pCTR.apply(lambda x: x*w_lr)\n",
    "ctr_gbm_test.pCTR = ctr_gbm_test.pCTR.apply(lambda x: x*w_gbm)\n",
    "ctr_nn_test.pCTR = ctr_nn_test.pCTR.apply(lambda x: x*w_nn)\n",
    "ctr_ensemble_wavg_test = pd.DataFrame(data={'bidid': ctr_lr_test.bidid, 'pCTR':pd.concat([ctr_lr_test.pCTR, ctr_gbm_test.pCTR, ctr_nn_test.pCTR], axis=1).sum(axis=1)})  \n",
    "\n"
   ]
  },
  {
   "cell_type": "code",
   "execution_count": 11,
   "metadata": {},
   "outputs": [
    {
     "name": "stdout",
     "output_type": "stream",
     "text": [
      "                                      bidid      pCTR\n",
      "0  366c563de7d90feb9d4dab53e795a93fb3157387  0.000700\n",
      "1  29167d4caa719788b5a342dbaa25151d53121f80  0.008261\n",
      "2  ff8bc3f4d44a3ea60c5f3a3a8fbe7cd98fb2966e  0.000097\n",
      "3  844c2da00d45315f20b748ec131c26ee99a7cbc7  0.000486\n",
      "4  c6017f0ad0c44d7d0c9b62583ea863f28941c0ca  0.000637\n"
     ]
    }
   ],
   "source": [
    "print(ctr_ensemble_avg_test.head())"
   ]
  },
  {
   "cell_type": "code",
   "execution_count": 12,
   "metadata": {},
   "outputs": [],
   "source": [
    "ctr_ensemble_avg_val.to_csv(dir + '/pCTR_ensemble_avg_val.csv', index=False)\n",
    "ctr_ensemble_wavg_val.to_csv(dir + '/pCTR_ensemble_wavg_val.csv', index=False)\n",
    "\n",
    "ctr_ensemble_avg_test.to_csv(dir + '/pCTR_ensemble_avg_test.csv', index=False)\n",
    "ctr_ensemble_wavg_test.to_csv(dir + '/pCTR_ensemble_wavg_test.csv', index=False)"
   ]
  },
  {
   "cell_type": "code",
   "execution_count": null,
   "metadata": {},
   "outputs": [],
   "source": []
  }
 ],
 "metadata": {
  "kernelspec": {
   "display_name": "Python 3",
   "language": "python",
   "name": "python3"
  },
  "language_info": {
   "codemirror_mode": {
    "name": "ipython",
    "version": 3
   },
   "file_extension": ".py",
   "mimetype": "text/x-python",
   "name": "python",
   "nbconvert_exporter": "python",
   "pygments_lexer": "ipython3",
   "version": "3.7.0"
  }
 },
 "nbformat": 4,
 "nbformat_minor": 2
}
