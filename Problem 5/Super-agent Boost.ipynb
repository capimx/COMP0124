{
 "cells": [
  {
   "cell_type": "markdown",
   "metadata": {},
   "source": [
    "# Super-agent boost\n",
    "Create a new strategy to compete in a multi-agent environment. For this, the bid prices will be boosted for the selected pCTR estimator and bidding strategy combination, according to the calculated pCTRs"
   ]
  },
  {
   "cell_type": "code",
   "execution_count": 1,
   "metadata": {},
   "outputs": [],
   "source": [
    "#Import libraries\n",
    "import os\n",
    "import random\n",
    "import numpy as np\n",
    "import pandas as pd\n",
    "import math\n",
    "from tqdm import tnrange, tqdm_notebook\n",
    "\n",
    "\n",
    "from glob import glob\n",
    "from IPython.display import display"
   ]
  },
  {
   "cell_type": "code",
   "execution_count": 2,
   "metadata": {},
   "outputs": [
    {
     "name": "stdout",
     "output_type": "stream",
     "text": [
      "Wall time: 13.4 s\n"
     ]
    }
   ],
   "source": [
    "%%time\n",
    "\n",
    "#Load pCTRs\n",
    "Path = 'C://Datasets//Multiagent//calc//pCTRs'\n",
    "\n",
    "os.chdir(Path)\n",
    "Validation_CTR = {}\n",
    "Test_CTR = {}\n",
    "\n",
    "for Filename in glob('*validation_pCTR.csv'):\n",
    "    Validation_CTR[Filename[:-4]] = pd.read_csv(Filename, sep = ',')\n",
    "    \n",
    "for Filename in glob('*test_pCTR.csv'):\n",
    "    Test_CTR[Filename[:-4]] = pd.read_csv(Filename, sep = ',')\n",
    "    \n",
    "#Load bids\n",
    "Path = 'C://Datasets//Multiagent//calc//bids'\n",
    "os.chdir(Path)\n",
    "\n",
    "Bids = {}\n",
    "for Filename in glob('*bids.csv'):\n",
    "    #print (Filename[8:-9])\n",
    "    Bids[Filename[8:-9]] = pd.read_csv(Filename, sep = ',')\n"
   ]
  },
  {
   "cell_type": "markdown",
   "metadata": {},
   "source": [
    "#### Define super-agent\n",
    "Select bidding strategy/ pCTR estimator algorithm"
   ]
  },
  {
   "cell_type": "code",
   "execution_count": 3,
   "metadata": {},
   "outputs": [
    {
     "data": {
      "text/html": [
       "<div>\n",
       "<style scoped>\n",
       "    .dataframe tbody tr th:only-of-type {\n",
       "        vertical-align: middle;\n",
       "    }\n",
       "\n",
       "    .dataframe tbody tr th {\n",
       "        vertical-align: top;\n",
       "    }\n",
       "\n",
       "    .dataframe thead th {\n",
       "        text-align: right;\n",
       "    }\n",
       "</style>\n",
       "<table border=\"1\" class=\"dataframe\">\n",
       "  <thead>\n",
       "    <tr style=\"text-align: right;\">\n",
       "      <th></th>\n",
       "      <th>bidid</th>\n",
       "      <th>bidprice</th>\n",
       "    </tr>\n",
       "  </thead>\n",
       "  <tbody>\n",
       "    <tr>\n",
       "      <th>0</th>\n",
       "      <td>366c563de7d90feb9d4dab53e795a93fb3157387</td>\n",
       "      <td>317.4</td>\n",
       "    </tr>\n",
       "    <tr>\n",
       "      <th>1</th>\n",
       "      <td>29167d4caa719788b5a342dbaa25151d53121f80</td>\n",
       "      <td>432.4</td>\n",
       "    </tr>\n",
       "    <tr>\n",
       "      <th>2</th>\n",
       "      <td>ff8bc3f4d44a3ea60c5f3a3a8fbe7cd98fb2966e</td>\n",
       "      <td>30.4</td>\n",
       "    </tr>\n",
       "    <tr>\n",
       "      <th>3</th>\n",
       "      <td>844c2da00d45315f20b748ec131c26ee99a7cbc7</td>\n",
       "      <td>130.2</td>\n",
       "    </tr>\n",
       "    <tr>\n",
       "      <th>4</th>\n",
       "      <td>c6017f0ad0c44d7d0c9b62583ea863f28941c0ca</td>\n",
       "      <td>77.7</td>\n",
       "    </tr>\n",
       "  </tbody>\n",
       "</table>\n",
       "</div>"
      ],
      "text/plain": [
       "                                      bidid  bidprice\n",
       "0  366c563de7d90feb9d4dab53e795a93fb3157387     317.4\n",
       "1  29167d4caa719788b5a342dbaa25151d53121f80     432.4\n",
       "2  ff8bc3f4d44a3ea60c5f3a3a8fbe7cd98fb2966e      30.4\n",
       "3  844c2da00d45315f20b748ec131c26ee99a7cbc7     130.2\n",
       "4  c6017f0ad0c44d7d0c9b62583ea863f28941c0ca      77.7"
      ]
     },
     "execution_count": 3,
     "metadata": {},
     "output_type": "execute_result"
    }
   ],
   "source": [
    "# Define super-agent strategy\n",
    "best_single_algorithm = 'NN'\n",
    "best_single_bidding_strategy = 'Ortb'\n",
    "best_params_bid_strategy = []\n",
    "\n",
    "get_bids = Bids[best_single_algorithm+'_'+best_single_bidding_strategy]\n",
    "get_bids.head()"
   ]
  },
  {
   "cell_type": "markdown",
   "metadata": {},
   "source": [
    "#### Create superagent dataframe\n",
    "Combine pCTRs and original bid prices into single dataframe"
   ]
  },
  {
   "cell_type": "code",
   "execution_count": 4,
   "metadata": {},
   "outputs": [
    {
     "data": {
      "text/html": [
       "<div>\n",
       "<style scoped>\n",
       "    .dataframe tbody tr th:only-of-type {\n",
       "        vertical-align: middle;\n",
       "    }\n",
       "\n",
       "    .dataframe tbody tr th {\n",
       "        vertical-align: top;\n",
       "    }\n",
       "\n",
       "    .dataframe thead th {\n",
       "        text-align: right;\n",
       "    }\n",
       "</style>\n",
       "<table border=\"1\" class=\"dataframe\">\n",
       "  <thead>\n",
       "    <tr style=\"text-align: right;\">\n",
       "      <th></th>\n",
       "      <th>bidid</th>\n",
       "      <th>pCTR</th>\n",
       "      <th>originalbid</th>\n",
       "    </tr>\n",
       "  </thead>\n",
       "  <tbody>\n",
       "    <tr>\n",
       "      <th>121051</th>\n",
       "      <td>0246d64b49fa8269ce10e4f46b767e6968d8b381</td>\n",
       "      <td>0.286297</td>\n",
       "      <td>7181.5</td>\n",
       "    </tr>\n",
       "    <tr>\n",
       "      <th>172343</th>\n",
       "      <td>01c0c1a83de1c8bd3cab8299a8e4d55ef19a57d2</td>\n",
       "      <td>0.284037</td>\n",
       "      <td>7152.5</td>\n",
       "    </tr>\n",
       "    <tr>\n",
       "      <th>202026</th>\n",
       "      <td>91c2b30a1642bd86c3d9cbd947cd6de514e87a33</td>\n",
       "      <td>0.275505</td>\n",
       "      <td>7042.1</td>\n",
       "    </tr>\n",
       "    <tr>\n",
       "      <th>174109</th>\n",
       "      <td>1ce75f7dcf499a312b851780fd62e3a6cd8f1be4</td>\n",
       "      <td>0.263722</td>\n",
       "      <td>6886.8</td>\n",
       "    </tr>\n",
       "    <tr>\n",
       "      <th>196414</th>\n",
       "      <td>7e169d7b8d15a594ffc73aaed4757c1640c86a50</td>\n",
       "      <td>0.245325</td>\n",
       "      <td>6637.3</td>\n",
       "    </tr>\n",
       "    <tr>\n",
       "      <th>190433</th>\n",
       "      <td>67252830e07cedbad0a9d5d8d2ef2896b44837a1</td>\n",
       "      <td>0.245321</td>\n",
       "      <td>6637.2</td>\n",
       "    </tr>\n",
       "    <tr>\n",
       "      <th>224409</th>\n",
       "      <td>d050d7edff07a5b662957044c4b1bd70616d452e</td>\n",
       "      <td>0.236658</td>\n",
       "      <td>6516.5</td>\n",
       "    </tr>\n",
       "    <tr>\n",
       "      <th>41650</th>\n",
       "      <td>0e8f668713bbd44fd8cfabdb74ac790da0bfff06</td>\n",
       "      <td>0.220355</td>\n",
       "      <td>6283.0</td>\n",
       "    </tr>\n",
       "    <tr>\n",
       "      <th>232926</th>\n",
       "      <td>06624b0bfc6e830b84451f38802ec8d880c926d7</td>\n",
       "      <td>0.220118</td>\n",
       "      <td>6279.6</td>\n",
       "    </tr>\n",
       "    <tr>\n",
       "      <th>216941</th>\n",
       "      <td>0023961d140331981212034fd128b0c388603b4a</td>\n",
       "      <td>0.217830</td>\n",
       "      <td>6246.1</td>\n",
       "    </tr>\n",
       "  </tbody>\n",
       "</table>\n",
       "</div>"
      ],
      "text/plain": [
       "                                           bidid      pCTR  originalbid\n",
       "121051  0246d64b49fa8269ce10e4f46b767e6968d8b381  0.286297       7181.5\n",
       "172343  01c0c1a83de1c8bd3cab8299a8e4d55ef19a57d2  0.284037       7152.5\n",
       "202026  91c2b30a1642bd86c3d9cbd947cd6de514e87a33  0.275505       7042.1\n",
       "174109  1ce75f7dcf499a312b851780fd62e3a6cd8f1be4  0.263722       6886.8\n",
       "196414  7e169d7b8d15a594ffc73aaed4757c1640c86a50  0.245325       6637.3\n",
       "190433  67252830e07cedbad0a9d5d8d2ef2896b44837a1  0.245321       6637.2\n",
       "224409  d050d7edff07a5b662957044c4b1bd70616d452e  0.236658       6516.5\n",
       "41650   0e8f668713bbd44fd8cfabdb74ac790da0bfff06  0.220355       6283.0\n",
       "232926  06624b0bfc6e830b84451f38802ec8d880c926d7  0.220118       6279.6\n",
       "216941  0023961d140331981212034fd128b0c388603b4a  0.217830       6246.1"
      ]
     },
     "execution_count": 4,
     "metadata": {},
     "output_type": "execute_result"
    }
   ],
   "source": [
    "superagent_df = pd.concat([\n",
    "    Test_CTR[best_single_algorithm+'_test_pCTR']['bidid'],\n",
    "    Test_CTR[best_single_algorithm+'_test_pCTR']['pCTR'],\n",
    "    Bids[best_single_algorithm+'_'+best_single_bidding_strategy]['bidprice']\n",
    "], axis=1)\n",
    " \n",
    "superagent_df.rename(columns={\"bidprice\": \"originalbid\"},inplace=True)\n",
    "superagent_df.sort_values('pCTR', ascending=False).head(10)"
   ]
  },
  {
   "cell_type": "markdown",
   "metadata": {},
   "source": [
    "#### Boosted bid creations\n",
    "Cluster pCTRs into bins, create factor, create new bid prices based on binFactor * originalBidPrice"
   ]
  },
  {
   "cell_type": "code",
   "execution_count": 5,
   "metadata": {},
   "outputs": [
    {
     "data": {
      "text/html": [
       "<div>\n",
       "<style scoped>\n",
       "    .dataframe tbody tr th:only-of-type {\n",
       "        vertical-align: middle;\n",
       "    }\n",
       "\n",
       "    .dataframe tbody tr th {\n",
       "        vertical-align: top;\n",
       "    }\n",
       "\n",
       "    .dataframe thead th {\n",
       "        text-align: right;\n",
       "    }\n",
       "</style>\n",
       "<table border=\"1\" class=\"dataframe\">\n",
       "  <thead>\n",
       "    <tr style=\"text-align: right;\">\n",
       "      <th></th>\n",
       "      <th>bidid</th>\n",
       "      <th>pCTR</th>\n",
       "      <th>originalbid</th>\n",
       "      <th>factor</th>\n",
       "      <th>bidprice</th>\n",
       "    </tr>\n",
       "  </thead>\n",
       "  <tbody>\n",
       "    <tr>\n",
       "      <th>121051</th>\n",
       "      <td>0246d64b49fa8269ce10e4f46b767e6968d8b381</td>\n",
       "      <td>0.286297</td>\n",
       "      <td>7181.5</td>\n",
       "      <td>3.500000</td>\n",
       "      <td>6000.0</td>\n",
       "    </tr>\n",
       "    <tr>\n",
       "      <th>172343</th>\n",
       "      <td>01c0c1a83de1c8bd3cab8299a8e4d55ef19a57d2</td>\n",
       "      <td>0.284037</td>\n",
       "      <td>7152.5</td>\n",
       "      <td>3.500000</td>\n",
       "      <td>6000.0</td>\n",
       "    </tr>\n",
       "    <tr>\n",
       "      <th>202026</th>\n",
       "      <td>91c2b30a1642bd86c3d9cbd947cd6de514e87a33</td>\n",
       "      <td>0.275505</td>\n",
       "      <td>7042.1</td>\n",
       "      <td>3.500000</td>\n",
       "      <td>6000.0</td>\n",
       "    </tr>\n",
       "    <tr>\n",
       "      <th>174109</th>\n",
       "      <td>1ce75f7dcf499a312b851780fd62e3a6cd8f1be4</td>\n",
       "      <td>0.263722</td>\n",
       "      <td>6886.8</td>\n",
       "      <td>3.371053</td>\n",
       "      <td>6000.0</td>\n",
       "    </tr>\n",
       "    <tr>\n",
       "      <th>196414</th>\n",
       "      <td>7e169d7b8d15a594ffc73aaed4757c1640c86a50</td>\n",
       "      <td>0.245325</td>\n",
       "      <td>6637.3</td>\n",
       "      <td>3.242105</td>\n",
       "      <td>6000.0</td>\n",
       "    </tr>\n",
       "  </tbody>\n",
       "</table>\n",
       "</div>"
      ],
      "text/plain": [
       "                                           bidid      pCTR  originalbid  \\\n",
       "121051  0246d64b49fa8269ce10e4f46b767e6968d8b381  0.286297       7181.5   \n",
       "172343  01c0c1a83de1c8bd3cab8299a8e4d55ef19a57d2  0.284037       7152.5   \n",
       "202026  91c2b30a1642bd86c3d9cbd947cd6de514e87a33  0.275505       7042.1   \n",
       "174109  1ce75f7dcf499a312b851780fd62e3a6cd8f1be4  0.263722       6886.8   \n",
       "196414  7e169d7b8d15a594ffc73aaed4757c1640c86a50  0.245325       6637.3   \n",
       "\n",
       "          factor  bidprice  \n",
       "121051  3.500000    6000.0  \n",
       "172343  3.500000    6000.0  \n",
       "202026  3.500000    6000.0  \n",
       "174109  3.371053    6000.0  \n",
       "196414  3.242105    6000.0  "
      ]
     },
     "metadata": {},
     "output_type": "display_data"
    }
   ],
   "source": [
    "numBins = 20\n",
    "factor = np.linspace(1.05,3.5,numBins)\n",
    "superagent_df['factor'] = pd.cut(superagent_df['pCTR'],numBins, labels=factor)\n",
    "superagent_df['bidprice'] = (superagent_df['originalbid'] * np.single(superagent_df['factor']))\n",
    "superagent_df.bidprice = superagent_df.bidprice.round(1)\n",
    "max_bid = 6000\n",
    "superagent_df.loc[superagent_df['bidprice'] > max_bid,'bidprice'] = max_bid #Define max bids\n",
    "display(superagent_df.sort_values('originalbid', ascending=False).head())\n"
   ]
  },
  {
   "cell_type": "markdown",
   "metadata": {},
   "source": [
    "#### Write new bids"
   ]
  },
  {
   "cell_type": "code",
   "execution_count": 6,
   "metadata": {},
   "outputs": [
    {
     "name": "stdout",
     "output_type": "stream",
     "text": [
      "Completed\n"
     ]
    }
   ],
   "source": [
    "superagent_df.to_csv(Path + '//Team_07_Superagent.csv',columns=['bidid','bidprice'], index=False)\n",
    "print('Completed')"
   ]
  },
  {
   "cell_type": "code",
   "execution_count": 7,
   "metadata": {},
   "outputs": [],
   "source": [
    "#Future work: try this instead of linearly spaced increases for factor\n",
    "\n",
    "#np.logspace(0.0,1,10)/10"
   ]
  }
 ],
 "metadata": {
  "kernelspec": {
   "display_name": "Python 3",
   "language": "python",
   "name": "python3"
  },
  "language_info": {
   "codemirror_mode": {
    "name": "ipython",
    "version": 3
   },
   "file_extension": ".py",
   "mimetype": "text/x-python",
   "name": "python",
   "nbconvert_exporter": "python",
   "pygments_lexer": "ipython3",
   "version": "3.7.0"
  }
 },
 "nbformat": 4,
 "nbformat_minor": 2
}
