{
 "cells": [
  {
   "cell_type": "markdown",
   "metadata": {},
   "source": [
    "# Ensemble CTR Prediction\n",
    "\n",
    "AUC-val scores:\n",
    "GBM = 0.86\n",
    "LR = 0.82\n",
    "NN 0.83"
   ]
  },
  {
   "cell_type": "code",
   "execution_count": 63,
   "metadata": {},
   "outputs": [],
   "source": [
    "import os\n",
    "import numpy as np\n",
    "import pandas as pd"
   ]
  },
  {
   "cell_type": "code",
   "execution_count": 67,
   "metadata": {},
   "outputs": [
    {
     "name": "stdout",
     "output_type": "stream",
     "text": [
      "/Users/pmelkert/Documents/Academics/UCL/Term_2/COMP0124-MAS/Group_project/github/COMP0124/Files\n"
     ]
    }
   ],
   "source": [
    "print(os.getcwd())"
   ]
  },
  {
   "cell_type": "code",
   "execution_count": null,
   "metadata": {},
   "outputs": [],
   "source": []
  },
  {
   "cell_type": "code",
   "execution_count": 68,
   "metadata": {},
   "outputs": [
    {
     "name": "stdout",
     "output_type": "stream",
     "text": [
      "/Users/pmelkert/Documents/Academics/UCL/Term_2/COMP0124-MAS/Group_project/github/COMP0124/Files\n"
     ]
    }
   ],
   "source": [
    "dir = os.getcwd() \n",
    "print(dir)"
   ]
  },
  {
   "cell_type": "code",
   "execution_count": 92,
   "metadata": {},
   "outputs": [
    {
     "name": "stdout",
     "output_type": "stream",
     "text": [
      "0.32669322709163345 0.3426294820717132 0.3306772908366534\n"
     ]
    }
   ],
   "source": [
    "auc_lr = 0.82\n",
    "auc_gbm = 0.86\n",
    "auc_nn = 0.83\n",
    "auc_total = sum([auc_lr, auc_gbm, auc_nn])\n",
    "w_lr = auc_lr / auc_total\n",
    "w_gbm = auc_gbm / auc_total\n",
    "w_nn = auc_nn / auc_total\n",
    "\n",
    "print(w_lr, w_gbm, w_nn)"
   ]
  },
  {
   "cell_type": "code",
   "execution_count": 95,
   "metadata": {},
   "outputs": [
    {
     "name": "stdout",
     "output_type": "stream",
     "text": [
      "                                      bidid      pCTR\n",
      "0  366c563de7d90feb9d4dab53e795a93fb3157387  0.000050\n",
      "1  29167d4caa719788b5a342dbaa25151d53121f80  0.020316\n",
      "2  ff8bc3f4d44a3ea60c5f3a3a8fbe7cd98fb2966e  0.000034\n",
      "3  844c2da00d45315f20b748ec131c26ee99a7cbc7  0.000487\n",
      "4  c6017f0ad0c44d7d0c9b62583ea863f28941c0ca  0.001187\n",
      "                                      bidid      pCTR\n",
      "0  366c563de7d90feb9d4dab53e795a93fb3157387  0.001328\n",
      "1  29167d4caa719788b5a342dbaa25151d53121f80  0.000433\n",
      "2  ff8bc3f4d44a3ea60c5f3a3a8fbe7cd98fb2966e  0.000227\n",
      "3  844c2da00d45315f20b748ec131c26ee99a7cbc7  0.000652\n",
      "4  c6017f0ad0c44d7d0c9b62583ea863f28941c0ca  0.000951\n",
      "                                      bidid      pCTR\n",
      "0  366c563de7d90feb9d4dab53e795a93fb3157387  0.001027\n",
      "1  29167d4caa719788b5a342dbaa25151d53121f80  0.001664\n",
      "2  ff8bc3f4d44a3ea60c5f3a3a8fbe7cd98fb2966e  0.000052\n",
      "3  844c2da00d45315f20b748ec131c26ee99a7cbc7  0.000291\n",
      "4  c6017f0ad0c44d7d0c9b62583ea863f28941c0ca  0.000152\n"
     ]
    }
   ],
   "source": [
    "# Validation set\n",
    "ctr_lr_val = pd.read_csv(dir + '/pCTR_LR_validation.csv')\n",
    "ctr_gbm_val = pd.read_csv(dir + '/LGBM_validation_pCTR.csv')\n",
    "ctr_nn_val = pd.read_csv(dir + '/pCTR_nn_keras_validation.csv')\n",
    "# Test set\n",
    "ctr_lr_test = pd.read_csv(dir + '/pCTR_LR_test.csv')\n",
    "ctr_gbm_test = pd.read_csv(dir + '/LGBM_test_pCTR.csv')\n",
    "ctr_nn_test = pd.read_csv(dir + '/pCTR_nn_keras_test.csv')\n",
    "\n",
    "print(ctr_lr.head())\n",
    "print(ctr_gbm.head())\n",
    "print(ctr_nn.head())\n"
   ]
  },
  {
   "cell_type": "code",
   "execution_count": 96,
   "metadata": {},
   "outputs": [],
   "source": [
    "ctr_ensemble_avg_val = pd.DataFrame(data={'bidid': ctr_lr_val.bidid, 'pCTR':pd.concat([ctr_lr_val.pCTR, ctr_gbm_val.pCTR, ctr_nn_val.pCTR], axis=1).mean(axis=1)})  \n",
    "ctr_ensemble_avg_test = pd.DataFrame(data={'bidid': ctr_lr_test.bidid, 'pCTR':pd.concat([ctr_lr_test.pCTR, ctr_gbm_test.pCTR, ctr_nn_test.pCTR], axis=1).mean(axis=1)})  "
   ]
  },
  {
   "cell_type": "code",
   "execution_count": 97,
   "metadata": {},
   "outputs": [
    {
     "name": "stdout",
     "output_type": "stream",
     "text": [
      "                                      bidid      pCTR\n",
      "0  366c563de7d90feb9d4dab53e795a93fb3157387  0.000802\n",
      "1  29167d4caa719788b5a342dbaa25151d53121f80  0.007471\n",
      "2  ff8bc3f4d44a3ea60c5f3a3a8fbe7cd98fb2966e  0.000104\n",
      "3  844c2da00d45315f20b748ec131c26ee99a7cbc7  0.000476\n",
      "4  c6017f0ad0c44d7d0c9b62583ea863f28941c0ca  0.000763\n"
     ]
    }
   ],
   "source": [
    "print(ctr_ensemble_avg.head())"
   ]
  },
  {
   "cell_type": "code",
   "execution_count": 98,
   "metadata": {},
   "outputs": [],
   "source": [
    "# Validation set\n",
    "ctr_lr_val.pCTR = ctr_lr_val.pCTR.apply(lambda x: x*w_lr)\n",
    "ctr_gbm_val.pCTR = ctr_gbm_val.pCTR.apply(lambda x: x*w_gbm)\n",
    "ctr_nn_val.pCTR = ctr_nn_val.pCTR.apply(lambda x: x*w_nn)\n",
    "ctr_ensemble_wavg_val = pd.DataFrame(data={'bidid': ctr_lr_val.bidid, 'pCTR':pd.concat([ctr_lr_val.pCTR, ctr_gbm_val.pCTR, ctr_nn_val.pCTR], axis=1).sum(axis=1)})  \n",
    "\n",
    "\n",
    "# Test set\n",
    "ctr_lr_test.pCTR = ctr_lr_test.pCTR.apply(lambda x: x*w_lr)\n",
    "ctr_gbm_test.pCTR = ctr_gbm_test.pCTR.apply(lambda x: x*w_gbm)\n",
    "ctr_nn_test.pCTR = ctr_nn_test.pCTR.apply(lambda x: x*w_nn)\n",
    "ctr_ensemble_wavg_test = pd.DataFrame(data={'bidid': ctr_lr_test.bidid, 'pCTR':pd.concat([ctr_lr_test.pCTR, ctr_gbm_test.pCTR, ctr_nn_test.pCTR], axis=1).sum(axis=1)})  \n",
    "\n"
   ]
  },
  {
   "cell_type": "code",
   "execution_count": 99,
   "metadata": {},
   "outputs": [
    {
     "name": "stdout",
     "output_type": "stream",
     "text": [
      "                                      bidid      pCTR\n",
      "0  366c563de7d90feb9d4dab53e795a93fb3157387  0.000811\n",
      "1  29167d4caa719788b5a342dbaa25151d53121f80  0.007336\n",
      "2  ff8bc3f4d44a3ea60c5f3a3a8fbe7cd98fb2966e  0.000106\n",
      "3  844c2da00d45315f20b748ec131c26ee99a7cbc7  0.000479\n",
      "4  c6017f0ad0c44d7d0c9b62583ea863f28941c0ca  0.000764\n"
     ]
    }
   ],
   "source": [
    "print(ctr_ensemble_wavg_val.head())"
   ]
  },
  {
   "cell_type": "code",
   "execution_count": 100,
   "metadata": {},
   "outputs": [],
   "source": [
    "ctr_ensemble_avg_val.to_csv(dir + '/pCTR_ensemble_avg_val.csv', index=False)\n",
    "ctr_ensemble_wavg_val.to_csv(dir + '/pCTR_ensemble_wavg_val.csv', index=False)\n",
    "\n",
    "ctr_ensemble_avg_test.to_csv(dir + '/pCTR_ensemble_avg_test.csv', index=False)\n",
    "ctr_ensemble_wavg_test.to_csv(dir + '/pCTR_ensemble_wavg_test.csv', index=False)"
   ]
  },
  {
   "cell_type": "code",
   "execution_count": null,
   "metadata": {},
   "outputs": [],
   "source": []
  }
 ],
 "metadata": {
  "kernelspec": {
   "display_name": "Python 3",
   "language": "python",
   "name": "python3"
  },
  "language_info": {
   "codemirror_mode": {
    "name": "ipython",
    "version": 3
   },
   "file_extension": ".py",
   "mimetype": "text/x-python",
   "name": "python",
   "nbconvert_exporter": "python",
   "pygments_lexer": "ipython3",
   "version": "3.7.0"
  }
 },
 "nbformat": 4,
 "nbformat_minor": 2
}
