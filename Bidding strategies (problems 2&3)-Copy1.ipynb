{
 "cells": [
  {
   "cell_type": "markdown",
   "metadata": {},
   "source": [
    "# COMP0124: Multi-Agent Artificial Intelligence"
   ]
  },
  {
   "cell_type": "markdown",
   "metadata": {},
   "source": [
    "# Group project: Real-time bidding auctions"
   ]
  },
  {
   "cell_type": "markdown",
   "metadata": {},
   "source": [
    "**Group #7: Oliviero Balbinetti, Mauricio Caballero, Paul Melkert**"
   ]
  },
  {
   "cell_type": "markdown",
   "metadata": {
    "ExecuteTime": {
     "end_time": "2019-02-20T08:49:21.393034Z",
     "start_time": "2019-02-20T08:49:21.389288Z"
    }
   },
   "source": [
    "Importing libraries."
   ]
  },
  {
   "cell_type": "code",
   "execution_count": 51,
   "metadata": {
    "ExecuteTime": {
     "end_time": "2019-02-24T18:22:08.037230Z",
     "start_time": "2019-02-24T18:22:08.034210Z"
    }
   },
   "outputs": [],
   "source": [
    "import os\n",
    "import sys\n",
    "import math\n",
    "import random\n",
    "import numpy as np\n",
    "import pandas as pd\n",
    "\n",
    "from glob import glob"
   ]
  },
  {
   "cell_type": "markdown",
   "metadata": {},
   "source": [
    "Defining general functions."
   ]
  },
  {
   "cell_type": "code",
   "execution_count": 4,
   "metadata": {
    "ExecuteTime": {
     "end_time": "2019-02-24T20:10:00.978305Z",
     "start_time": "2019-02-24T20:10:00.966216Z"
    }
   },
   "outputs": [],
   "source": [
    "#Constant bidding strategy.\n",
    "def constant_bidding(bid):\n",
    "    return bid\n",
    "\n",
    "#Random bidding strategy.\n",
    "def random_bidding(lower, upper):\n",
    "    return random.randint(lower, upper+1)\n",
    "\n",
    "#Linear bidding strategy.\n",
    "def linear_bidding(base_bid, pCTR, Init_CTR):\n",
    "    return int(base_bid*pCTR/Init_CTR)\n",
    "\n",
    "#Winning criterion #1.\n",
    "def win_auction_1(bid, payprice):\n",
    "    return bid > payprice\n",
    "\n",
    "#Winning criterion #2.\n",
    "def win_auction_2(bid, payprice, Others):\n",
    "    return ((bid > payprice) and (bid > max(Others)))\n",
    "\n",
    "#Bidding strategy parameters.\n",
    "def Bidding_strategy(Budget, Init_CTR, Init_eCPC, Clicks_Prices, \n",
    "                     Pred_CTRs, prm, key):\n",
    "    \n",
    "    empCTR = []\n",
    "    empCPM = []\n",
    "    Bids, Cost, Imps, Clicks = 0, 0, 0, 0\n",
    "    \n",
    "    #Looping on bid requests.\n",
    "    for item in range(0, len(Clicks_Prices)):\n",
    "        bid = 0\n",
    "        Bids += 1\n",
    "        \n",
    "        pCTR = Pred_CTRs[item]\n",
    "        empCTR.append(pCTR)\n",
    "        \n",
    "        #Costant strategy.\n",
    "        if key == 'Constant':\n",
    "            Criterion = 1\n",
    "            bid = constant_bidding(prm)\n",
    "            Win = win_auction_1(bid, Clicks_Prices[item][1])\n",
    "            \n",
    "        #Random strategy.\n",
    "        elif key == 'Random':\n",
    "            Criterion = 1\n",
    "            bid = random_bidding(lower, upper)\n",
    "            Win = win_auction_1(bid, Clicks_Prices[item][1])\n",
    "            \n",
    "        #Linear strategy.\n",
    "        elif key == 'Linear':\n",
    "            Criterion = 1\n",
    "            bid = linear_bidding(prm, pCTR, Init_CTR)\n",
    "            Win = win_auction_1(bid, Clicks_Prices[item][1])\n",
    "            \n",
    "        else:\n",
    "            print('[Strategy error]: Wrong bidding strategy name!')\n",
    "            sys.exit(-1)\n",
    "        \n",
    "        #Computing bid outcome.\n",
    "        if Win:\n",
    "            Imps += 1\n",
    "            Cost += Clicks_Prices[item][1]\n",
    "            Clicks += Clicks_Prices[item][0]\n",
    "            \n",
    "            if Criterion == 1:\n",
    "                empCPM.append(Clicks_Prices[item][1])\n",
    "            else: empCPM.append(max(Clicks_Prices[item][1],max(Others)))\n",
    "            \n",
    "        else:\n",
    "            empCPM.append(0)\n",
    "        \n",
    "        #Stopping condition.\n",
    "        if Cost > Budget:\n",
    "            break\n",
    "    \n",
    "    avgCTR = np.mean(empCTR)\n",
    "    avgCPM = np.mean(empCPM)\n",
    "    avgCPC = avgCPM/1000\n",
    "    \n",
    "    Output =  key + ',' + str(prm) + ',' + str(Budget) + ',' + str(Cost) + ','\\\n",
    "              + str(Bids) + ',' + str(Imps) + ',' + str(Clicks) + ','\\\n",
    "              + str(avgCTR) + ',' + str(avgCPM) + ',' + str(avgCPC)\n",
    "    \n",
    "    return Output\n",
    "\n",
    "#Bidding strategy simulation.\n",
    "def Bidding_strategy(Budget, Init_CTR, Init_eCPC, Clicks_Prices, Pred_CTRs, \n",
    "                     file, Dict_alg, key):\n",
    "    parameters = Dict_alg[key]\n",
    "    \n",
    "    for prm in parameters:\n",
    "        output = Bidding_strategy_prm(Budget, Init_CTR, Init_eCPC, \n",
    "                                      Clicks_Prices, Pred_CTRs, prm, key)\n",
    "        file.write(output + '\\n')"
   ]
  },
  {
   "cell_type": "markdown",
   "metadata": {},
   "source": [
    "Importing predicted CTR data."
   ]
  },
  {
   "cell_type": "code",
   "execution_count": null,
   "metadata": {},
   "outputs": [],
   "source": [
    "#Defining directory.\n",
    "Path = '/Users/olivierobalbinetti/Desktop/University College London/Term 2'\\\n",
    "       '/Multi Agents Artificial Intelligence/Courseworks/Group coursework/'\\\n",
    "       'Data/Predicted CTR'\n",
    "\n",
    "#Importing data.\n",
    "os.chdir(Path)\n",
    "Datasets_CTR = {}\n",
    "\n",
    "for Filename in glob('*.csv'):\n",
    "    Datasets_CTR[Filename[:-4].title()] = pd.read_csv(Filename, sep = ',')\n",
    "    \n",
    "#Defining variables.\n",
    "Test_CTR = Datasets_CTR['Test']\n",
    "Train_CTR = Datasets_CTR['Train']\n",
    "Validation_CTR = Datasets_CTR['Validation']"
   ]
  },
  {
   "cell_type": "markdown",
   "metadata": {},
   "source": [
    "Importing feature engineering data."
   ]
  },
  {
   "cell_type": "code",
   "execution_count": 3,
   "metadata": {
    "ExecuteTime": {
     "end_time": "2019-02-24T15:17:50.478454Z",
     "start_time": "2019-02-24T15:17:50.474162Z"
    }
   },
   "outputs": [],
   "source": [
    "#Defining directory.\n",
    "Path = '/Users/olivierobalbinetti/Desktop/University College London/Term 2'\\\n",
    "       '/Multi Agents Artificial Intelligence/Courseworks/Group coursework/'\\\n",
    "       'Data/Feature engineering'\n",
    "\n",
    "#Importing data.\n",
    "os.chdir(Path)\n",
    "Datasets_features = {}\n",
    "\n",
    "for Filename in glob('*.csv'):\n",
    "    Datasets_features[Filename[:-4].title()] = pd.read_csv(Filename, sep = ',')\n",
    "    \n",
    "#Defining variables.\n",
    "Test_ftr = Datasets_features['Test']\n",
    "Train_ftr = Datasets_features['Train']\n",
    "Validation_ftr = Datasets_features['Validation']"
   ]
  },
  {
   "cell_type": "markdown",
   "metadata": {},
   "source": [
    "Training bidding strategies."
   ]
  },
  {
   "cell_type": "code",
   "execution_count": null,
   "metadata": {},
   "outputs": [],
   "source": [
    "#Training bidding strategies.\n",
    "Budget = 6250\n",
    "random.seed(10)\n",
    "\n",
    "Path = '/Users/olivierobalbinetti/Desktop/University College London/Term 2'\\\n",
    "       '/Multi Agents Artificial Intelligence/Courseworks/Group coursework/'\\\n",
    "       'Data/Parameter optimization'\n",
    "\n",
    "#Defining general variables.\n",
    "Pred_CTRs = []\n",
    "Clicks_Prices = []\n",
    "\n",
    "#Initialising parameters.\n",
    "Prm_cost = np.concatenate((np.arange(2, 20, 2),np.arange(20, 100, 5),\n",
    "                           np.arange(100, 301, 10)), axis=0)\n",
    "Prm_rand = np.concatenate((np.arange(2, 20, 2),np.arange(20, 100, 5),\n",
    "                           np.arange(100, 501, 10)), axis=0)\n",
    "Prm_lin = np.concatenate((np.arange(2, 20, 2),np.arange(20, 100, 5),\n",
    "                          np.arange(100, 400, 10), np.arange(400, 800, 50)),\n",
    "                          axis=0)\n",
    "\n",
    "Dict_alg = {'Constant': Prm_cost, 'Random': Prm_rand, 'Linear': Prm_lin}\n",
    "\n",
    "#Initialising values.\n",
    "Init_CTR = sum(Train_ftr['click'])/len(Train_ftr)\n",
    "Init_eCPC = sum(Train_ftr['payprice'])/(sum(Train_ftr['click'])*1000)\n",
    "\n",
    "Pred_CTRs = list(Train_CTR['pCTR'].values)\n",
    "Clicks_Prices = list(zip(Train_ftr['click'], Train_ftr['payprice']))\n",
    "\n",
    "#Training and saving results.\n",
    "os.chdir(Path)\n",
    "\n",
    "print('Training procedures:\\n')\n",
    "header = 'algorithm,parameter,budget,spend,bids,imps,click,avgCTR,avgCPM,avgCPC'\n",
    "\n",
    "for key in Dict_alg.keys():\n",
    "    Filename = key + '.csv'\n",
    "    \n",
    "    with open(Filename, 'w') as file:\n",
    "        file.write(header + '\\n')\n",
    "        Bidding_strategy(Budget, Init_CTR, Init_eCPC, Clicks_Prices, \n",
    "                         Pred_CTRs, file, Dict_alg, key)\n",
    "        \n",
    "    print('• [File %s]: Process completed!\\n' %Filename)"
   ]
  },
  {
   "cell_type": "markdown",
   "metadata": {},
   "source": [
    "Choosing best model parameters."
   ]
  },
  {
   "cell_type": "code",
   "execution_count": null,
   "metadata": {},
   "outputs": [],
   "source": [
    "#Choosing best models parameters.\n",
    "Path = '/Users/olivierobalbinetti/Desktop/University College London/Term 2'\\\n",
    "       '/Multi Agents Artificial Intelligence/Courseworks/Group coursework/'\\\n",
    "       'Data/Parameter optimization'\n",
    "\n",
    "#Importing data.\n",
    "os.chdir(Path)\n",
    "Datasets_parameter = {}\n",
    "\n",
    "for Filename in glob('*.csv'):\n",
    "    Datasets_parameter[Filename[:-4].title()] = pd.read_csv(Filename, sep = ',')\n",
    "    \n",
    "#Defining variables.\n",
    "Linear = Datasets_parameter['Linear']\n",
    "Random = Datasets_parameter['Random']\n",
    "Constant = Datasets_parameter['Constant']\n",
    "\n",
    "#Objective function.\n",
    "for key in Datasets_parameter.keys():\n",
    "    data = Datasets_parameter[key]\n",
    "    \n",
    "    df = data[data['spend'] >= Budget]\n",
    "    "
   ]
  },
  {
   "cell_type": "markdown",
   "metadata": {},
   "source": [
    "Evaluating bidding strategies."
   ]
  },
  {
   "cell_type": "code",
   "execution_count": null,
   "metadata": {},
   "outputs": [],
   "source": [
    "Repeat the simulation based on best parameters and development set."
   ]
  }
 ],
 "metadata": {
  "kernelspec": {
   "display_name": "Python 3",
   "language": "python",
   "name": "python3"
  },
  "language_info": {
   "codemirror_mode": {
    "name": "ipython",
    "version": 3
   },
   "file_extension": ".py",
   "mimetype": "text/x-python",
   "name": "python",
   "nbconvert_exporter": "python",
   "pygments_lexer": "ipython3",
   "version": "3.6.8"
  }
 },
 "nbformat": 4,
 "nbformat_minor": 2
}
